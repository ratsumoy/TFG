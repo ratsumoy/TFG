{
  "cells": [
    {
      "cell_type": "code",
      "source": [
        "from google.colab import drive\n",
        "drive.mount('/content/drive')"
      ],
      "metadata": {
        "id": "zLmpjK7zPL4h"
      },
      "id": "zLmpjK7zPL4h",
      "execution_count": null,
      "outputs": []
    },
    {
      "cell_type": "code",
      "execution_count": null,
      "id": "95c315e6-de15-4c06-94db-564eaefcad95",
      "metadata": {
        "id": "95c315e6-de15-4c06-94db-564eaefcad95"
      },
      "outputs": [],
      "source": [
        "# Request access_token\n",
        "import requests\n",
        "headers = {\n",
        "    'Content-Type': 'application/x-www-form-urlencoded',\n",
        "    'Cache-Control': 'no-cache',\n",
        "}\n",
        "\n",
        "\n",
        "# Fill with TikTok API credentials. Can be requested at https://developers.tiktok.com/products/research-api/\n",
        "data = {\n",
        "    'client_key': 'API_CREDENTIALS',\n",
        "    'client_secret': 'API_CREDENTIALS',\n",
        "    'grant_type': 'client_credentials',\n",
        "}\n",
        "\n",
        "\n",
        "response = requests.post('https://open.tiktokapis.com/v2/oauth/token/', headers=headers, data=data).json()\n",
        "auth = response['access_token']"
      ]
    },
    {
      "cell_type": "code",
      "execution_count": null,
      "id": "16f2014c-e808-481f-a376-18293d39d727",
      "metadata": {
        "id": "16f2014c-e808-481f-a376-18293d39d727"
      },
      "outputs": [],
      "source": [
        "auth"
      ]
    },
    {
      "cell_type": "code",
      "execution_count": null,
      "id": "895c24d8-f5bf-40cb-b9aa-f9edf7e32422",
      "metadata": {
        "id": "895c24d8-f5bf-40cb-b9aa-f9edf7e32422"
      },
      "outputs": [],
      "source": [
        "# API request\n",
        "def get_data(start_date, end_date, account):\n",
        "    headers = {\n",
        "        \"authorization\": f\"bearer {auth}\",\n",
        "        \"Content-Type\": \"application/json\",\n",
        "    }\n",
        "\n",
        "    data = {\n",
        "        \"query\": {\n",
        "            \"and\": [\n",
        "                { \"operation\": \"IN\", \"field_name\": \"username\", \"field_values\": [account] }\n",
        "            ]\n",
        "        },\n",
        "        \"start_date\": start_date,\n",
        "        \"end_date\": end_date,\n",
        "        \"max_count\": 100\n",
        "    }\n",
        "    response = requests.post(\n",
        "        \"https://open.tiktokapis.com/v2/research/video/query/?fields=id,like_count,video_description,share_count,view_count,create_time,region_code,comment_count,voice_to_text,effect_ids\",\n",
        "        headers=headers, data=json.dumps(data)\n",
        "    ).json()\n",
        "    print(response)\n",
        "\n",
        "    return response\n",
        "\n",
        "# Saving each month of each political party into a csv file\n",
        "def write_file(folder_path, filename, response):\n",
        "\n",
        "    if 'data' in response and 'videos' in response['data']:\n",
        "        videos = response['data']['videos'] #extracting video data\n",
        "    else:\n",
        "        print(\"No videos found in response data.\")\n",
        "        return\n",
        "\n",
        "    os.makedirs(folder_path, exist_ok=True)  #folder to save csv\n",
        "    filepath = os.path.join(folder_path, filename)\n",
        "\n",
        "    # Finding keys to store the correct value for each column, defines headers of csv\n",
        "    all_keys = set()\n",
        "    for video in videos:\n",
        "        all_keys.update(video.keys())\n",
        "\n",
        "    fieldnames = sorted(all_keys)\n",
        "\n",
        "    with open(filepath, 'w', newline='', encoding='utf-8') as csvFile: #writes data\n",
        "        csvwriter = csv.DictWriter(csvFile, fieldnames=fieldnames, delimiter=\"\\t\")\n",
        "        csvwriter.writeheader()\n",
        "        for video in videos:\n",
        "            csvwriter.writerow(video)\n",
        "\n",
        "    print(f\"Data saved to {filepath}\")"
      ]
    },
    {
      "cell_type": "code",
      "source": [
        "# Should be changed each time\n",
        "account = 'ACCOUNT_NAME'\n",
        "start_date = 'START_DATE'\n",
        "end_date = 'END_DATE'\n",
        "filename = 'FILENAME'\n",
        "\n",
        "# Define the path to save the file\n",
        "folder_path = \"PARTY_PATH\"\n",
        "\n",
        "response = get_data(start_date, end_date, account)\n",
        "write_file(folder_path, filename,response)"
      ],
      "metadata": {
        "id": "x-NOkBDd_SYO"
      },
      "id": "x-NOkBDd_SYO",
      "execution_count": null,
      "outputs": []
    }
  ],
  "metadata": {
    "kernelspec": {
      "display_name": "Python 3 (ipykernel)",
      "language": "python",
      "name": "python3"
    },
    "language_info": {
      "codemirror_mode": {
        "name": "ipython",
        "version": 3
      },
      "file_extension": ".py",
      "mimetype": "text/x-python",
      "name": "python",
      "nbconvert_exporter": "python",
      "pygments_lexer": "ipython3",
      "version": "3.10.12"
    },
    "colab": {
      "provenance": []
    }
  },
  "nbformat": 4,
  "nbformat_minor": 5
}