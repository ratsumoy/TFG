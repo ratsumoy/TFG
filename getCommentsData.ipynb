{
  "nbformat": 4,
  "nbformat_minor": 0,
  "metadata": {
    "colab": {
      "provenance": []
    },
    "kernelspec": {
      "name": "python3",
      "display_name": "Python 3"
    },
    "language_info": {
      "name": "python"
    }
  },
  "cells": [
    {
      "cell_type": "code",
      "source": [
        "import requests\n",
        "import requests\n",
        "import json\n",
        "import csv\n",
        "import os\n",
        "import pandas as pd"
      ],
      "metadata": {
        "id": "nX7Qi8Rvcmx8"
      },
      "execution_count": null,
      "outputs": []
    },
    {
      "cell_type": "code",
      "source": [
        "from google.colab import drive\n",
        "drive.mount('/content/drive')"
      ],
      "metadata": {
        "id": "zqvHos93dG-x"
      },
      "execution_count": null,
      "outputs": []
    },
    {
      "cell_type": "markdown",
      "source": [
        "GET TOP 5 VIDEO WITH MOST COMMENTS"
      ],
      "metadata": {
        "id": "yRupjk2RaxoP"
      }
    },
    {
      "cell_type": "code",
      "source": [
        "root_path = \"CSV_PATH\"\n",
        "\n",
        "top_per_party = {}\n",
        "\n",
        "\n",
        "for party in os.listdir(root_path):\n",
        "    party_path = os.path.join(root_path, party)\n",
        "    if not os.path.isdir(party_path):\n",
        "        continue\n",
        "\n",
        "    party_dfs = []\n",
        "\n",
        "    for file in os.listdir(party_path):\n",
        "        if file.endswith('.csv'):\n",
        "            file_path = os.path.join(party_path, file)\n",
        "            try:\n",
        "                df = pd.read_csv(file_path, delimiter=\"\\t\")\n",
        "                df['party'] = party\n",
        "                if 'comment_count' in df.columns and 'id' in df.columns:\n",
        "                    party_dfs.append(df[['id', 'comment_count', 'party']])\n",
        "            except Exception as e:\n",
        "                print(f\"Error reading {file_path}: {e}\")\n",
        "\n",
        "    # Join each file (month) and order by comment_count\n",
        "    if party_dfs:\n",
        "        party_df = pd.concat(party_dfs, ignore_index=True)\n",
        "        party_df = party_df.dropna(subset=['comment_count'])\n",
        "        party_df['comment_count'] = party_df['comment_count'].astype(int)\n",
        "        top_per_party[party] = party_df.sort_values(by='comment_count', ascending=False).head(5)\n",
        "\n",
        "\n",
        "\n",
        "print(\"Top 5 by party:\")\n",
        "for party, df in top_per_party.items():\n",
        "    print(f\"\\n{party}:\")\n",
        "    print(df)"
      ],
      "metadata": {
        "id": "hXNSqM6ucl7V"
      },
      "execution_count": null,
      "outputs": []
    },
    {
      "cell_type": "markdown",
      "source": [
        "GET COMMENTS DATA"
      ],
      "metadata": {
        "id": "EIQdGLpYc-6y"
      }
    },
    {
      "cell_type": "code",
      "execution_count": null,
      "metadata": {
        "id": "5dKCD59cZH2Y"
      },
      "outputs": [],
      "source": [
        "#request access_token\n",
        "headers = {\n",
        "    'Content-Type': 'application/x-www-form-urlencoded',\n",
        "    'Cache-Control': 'no-cache',\n",
        "}\n",
        "\n",
        "# Fill with TikTok API credentials. Can be requested at https://developers.tiktok.com/products/research-api/\n",
        "data = {\n",
        "    'client_key': 'API_CREDENTIALS',\n",
        "    'client_secret': 'API_CREDENTIALS',\n",
        "    'grant_type': 'client_credentials',\n",
        "}\n",
        "\n",
        "response = requests.post('https://open.tiktokapis.com/v2/oauth/token/', headers=headers, data=data).json()\n",
        "auth = response['access_token']"
      ]
    },
    {
      "cell_type": "code",
      "source": [
        "def get_comments(video_id, auth):\n",
        "\n",
        "    headers = {\n",
        "        \"authorization\": f\"bearer {auth}\",\n",
        "        \"Content-Type\": \"application/json\",\n",
        "    }\n",
        "\n",
        "    data = {\n",
        "        \"video_id\": str(video_id),\n",
        "        \"max_count\": 50,\n",
        "        \"cursor\": 0\n",
        "    }\n",
        "\n",
        "    response = requests.post(\n",
        "        \"https://open.tiktokapis.com/v2/research/video/comment/list/?fields=id,like_count,create_time,text,video_id,parent_comment_id\",\n",
        "        headers=headers, data=json.dumps(data)\n",
        "    ).json()\n",
        "\n",
        "    return response\n"
      ],
      "metadata": {
        "id": "7BwAEqvobE5l"
      },
      "execution_count": null,
      "outputs": []
    },
    {
      "cell_type": "code",
      "source": [
        "def write_comments_file(folder_path, filename, comments_data):\n",
        "    if 'data' in comments_data and 'comments' in comments_data['data']:\n",
        "        comments = comments_data['data']['comments']\n",
        "    else:\n",
        "        print(\"No comments found in response data.\")\n",
        "        return\n",
        "\n",
        "    os.makedirs(folder_path, exist_ok=True)\n",
        "    filepath = os.path.join(folder_path, filename)\n",
        "\n",
        "    all_keys = set()\n",
        "    for comment in comments:\n",
        "        all_keys.update(comment.keys())\n",
        "\n",
        "    fieldnames = sorted(all_keys)\n",
        "\n",
        "    # Save in CSV\n",
        "    with open(filepath, 'w', newline='', encoding='utf-8') as csvFile:\n",
        "        csvwriter = csv.DictWriter(csvFile, fieldnames=fieldnames, delimiter=\"\\t\")\n",
        "        csvwriter.writeheader()\n",
        "        for comment in comments:\n",
        "            csvwriter.writerow(comment)\n",
        "\n",
        "    print(f\"Comments saved to {filepath}\")\n"
      ],
      "metadata": {
        "id": "ApWv06XT5EZp"
      },
      "execution_count": null,
      "outputs": []
    },
    {
      "cell_type": "code",
      "source": [
        "video_id = \"VIDEO_ID\"\n",
        "comments_data = get_comments(video_id, auth)\n",
        "\n",
        "folder_path = \"PARTY_PATH\"\n",
        "filename = \"FILENAME\"\n",
        "\n",
        "write_comments_file(folder_path, filename, comments_data)\n"
      ],
      "metadata": {
        "id": "pTKjxnRTcFxk"
      },
      "execution_count": null,
      "outputs": []
    }
  ]
}